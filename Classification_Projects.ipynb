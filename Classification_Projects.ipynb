{
 "cells": [
  {
   "cell_type": "code",
   "execution_count": 12,
   "id": "527051ff",
   "metadata": {},
   "outputs": [],
   "source": [
    "import pandas as pd\n",
    "import numpy as np\n"
   ]
  },
  {
   "cell_type": "code",
   "execution_count": 13,
   "id": "8faa5c50",
   "metadata": {},
   "outputs": [],
   "source": [
    "def preprocessing():\n",
    "    df = pd.read_csv(r'C:\\Users\\Мирослав\\Documents\\NLP_Tutorial\\NLP_COURSE\\UPDATED_NLP_COURSE\\TextFiles\\moviereviews.tsv', sep='\\t')\n",
    "    print(df.shape)\n",
    "    df.dropna(inplace=True)\n",
    "    print(df.shape)\n",
    "    blanks = []\n",
    "    for i,lb,rv in df.itertuples():\n",
    "        if type(rv)==str:\n",
    "            # If rows is space it needed to remove\n",
    "            if rv.isspace():\n",
    "                blanks.append(i)\n",
    "    df.drop(blanks, inplace=True)\n",
    "    print(df.shape)\n",
    "    return df"
   ]
  },
  {
   "cell_type": "code",
   "execution_count": 14,
   "id": "2744ea9d",
   "metadata": {},
   "outputs": [
    {
     "name": "stdout",
     "output_type": "stream",
     "text": [
      "(2000, 2)\n",
      "(1965, 2)\n",
      "(1938, 2)\n"
     ]
    }
   ],
   "source": [
    "df = preprocessing()"
   ]
  },
  {
   "cell_type": "code",
   "execution_count": 15,
   "id": "65ab6276",
   "metadata": {},
   "outputs": [
    {
     "name": "stdout",
     "output_type": "stream",
     "text": [
      "<class 'pandas.core.frame.DataFrame'>\n",
      "Int64Index: 1938 entries, 0 to 1999\n",
      "Data columns (total 2 columns):\n",
      " #   Column  Non-Null Count  Dtype \n",
      "---  ------  --------------  ----- \n",
      " 0   label   1938 non-null   object\n",
      " 1   review  1938 non-null   object\n",
      "dtypes: object(2)\n",
      "memory usage: 45.4+ KB\n"
     ]
    }
   ],
   "source": [
    "df.info()"
   ]
  },
  {
   "cell_type": "code",
   "execution_count": 16,
   "id": "518ea3b3",
   "metadata": {},
   "outputs": [
    {
     "data": {
      "text/plain": [
       "count     1938\n",
       "unique       2\n",
       "top        pos\n",
       "freq       969\n",
       "Name: label, dtype: object"
      ]
     },
     "execution_count": 16,
     "metadata": {},
     "output_type": "execute_result"
    }
   ],
   "source": [
    "df['label'].describe()"
   ]
  },
  {
   "cell_type": "code",
   "execution_count": 17,
   "id": "bf3636b6",
   "metadata": {},
   "outputs": [
    {
     "data": {
      "text/plain": [
       "label     0\n",
       "review    0\n",
       "dtype: int64"
      ]
     },
     "execution_count": 17,
     "metadata": {},
     "output_type": "execute_result"
    }
   ],
   "source": [
    "df.isnull().sum()"
   ]
  },
  {
   "cell_type": "code",
   "execution_count": 18,
   "id": "b5648d8d",
   "metadata": {},
   "outputs": [
    {
     "data": {
      "text/plain": [
       "pos    969\n",
       "neg    969\n",
       "Name: label, dtype: int64"
      ]
     },
     "execution_count": 18,
     "metadata": {},
     "output_type": "execute_result"
    }
   ],
   "source": [
    "df['label'].value_counts()"
   ]
  },
  {
   "cell_type": "code",
   "execution_count": 19,
   "id": "100d5c20",
   "metadata": {},
   "outputs": [
    {
     "data": {
      "text/plain": [
       "<AxesSubplot:title={'center':'Positive or Negative target'}>"
      ]
     },
     "execution_count": 19,
     "metadata": {},
     "output_type": "execute_result"
    },
    {
     "data": {
      "image/png": "[encoded data removed]",
      "text/plain": [
       "<Figure size 1080x432 with 1 Axes>"
      ]
     },
     "metadata": {
      "needs_background": "light"
     },
     "output_type": "display_data"
    }
   ],
   "source": [
    "df['label'].value_counts().plot(kind='bar', figsize = (15, 6), fontsize = 20, title = 'Positive or Negative target')"
   ]
  },
  {
   "cell_type": "markdown",
   "id": "2957fdff",
   "metadata": {},
   "source": [
    "# Build the Test and Train dataset "
   ]
  },
  {
   "cell_type": "code",
   "execution_count": 20,
   "id": "ccf1891c",
   "metadata": {},
   "outputs": [],
   "source": [
    "from sklearn.svm import LinearSVC\n",
    "from sklearn.feature_extraction.text import TfidfVectorizer\n",
    "from sklearn.pipeline import Pipeline\n",
    "from sklearn.svm import LinearSVC\n",
    "from sklearn.linear_model import LogisticRegression\n",
    "from sklearn import metrics\n",
    "from sklearn.naive_bayes import MultinomialNB\n",
    "from sklearn.svm import SVC\n",
    "from sklearn.model_selection import train_test_split"
   ]
  },
  {
   "cell_type": "markdown",
   "id": "c5aa9ee8",
   "metadata": {},
   "source": [
    "# Implement some methods for predictions positive or negative movie's review"
   ]
  },
  {
   "cell_type": "code",
   "execution_count": 48,
   "id": "3eefa71b",
   "metadata": {},
   "outputs": [],
   "source": [
    "def implement_prediction_approaches(df):\n",
    "    df_all_matrix_conf = pd.DataFrame()\n",
    "    bag_of_predict = {}\n",
    "\n",
    "    list_of_approaches = [LogisticRegression(), LinearSVC(),  MultinomialNB(), SVC(gamma='auto')]\n",
    "    \n",
    "    for approach in list_of_approaches:\n",
    "        # Create x and y Series \n",
    "        X=df['review']\n",
    "        y=df['label']\n",
    "        \n",
    "        label_name = str(approach).split('(')[0]\n",
    "        # Split our datapoints in test and train \n",
    "        X_train, X_test, y_train, y_test = train_test_split(X, y, test_size=0.33, random_state=42)\n",
    "        # create Pipeline \n",
    "        model = Pipeline([('tfidf', TfidfVectorizer()),\n",
    "                         (f'{label_name}', approach,)])\n",
    "        # Feed the training data through the pipeline\n",
    "        model.fit(X_train, y_train)\n",
    "        \n",
    "        # compute predictions\n",
    "        predictions = model.predict(X_test)\n",
    "        print(f'Metrics for {label_name} \\n', metrics.classification_report(y_test,predictions))\n",
    "        print('===='*50)\n",
    "        \n",
    "        # make dataframe include confusion matrix \n",
    "        df_metrics = pd.DataFrame(metrics.confusion_matrix(y_test,predictions), index=['positive','negative'], columns=[f'positive {label_name}', f'negative {label_name}'])\n",
    "        \n",
    "        # add in dataframe accuracy score\n",
    "        df_metrics[f'Accuracy {label_name}'] = metrics.accuracy_score(y_test,predictions)\n",
    "        \n",
    "        # concate dataframe with single matrix for all mrthods of ML classification\n",
    "        df_all_matrix_conf = pd.concat([df_metrics, df_all_matrix_conf], axis = 1)\n",
    "        \n",
    "        # Test our model use positive and negative review\n",
    "        example_review_neg = 'This movie seemed like a failure to me. From the point of view of the acting, there is a complete confusion and unwillingness to show true skill. The only good and wonderful moment was the appearance of Eliza at the end of the film.'\n",
    "        example_review_pos = 'The film was ambiguous, but unlike many, I got tremendous pleasure from the film and from the acting.'\n",
    "        \n",
    "        # try predict positive or negative our review\n",
    "        sample_of_predict = model.predict([example_review_pos])\n",
    "        \n",
    "        # add in dict our predictions result\n",
    "#         bag_of_predict.append(sample_of_predict[0])\n",
    "        bag_of_predict[label_name]=(metrics.accuracy_score(y_test,predictions), sample_of_predict[0])\n",
    "        \n",
    "        print(sample_of_predict)\n",
    "    return df_all_matrix_conf, bag_of_predict\n",
    "                          \n",
    "                        "
   ]
  },
  {
   "cell_type": "code",
   "execution_count": 49,
   "id": "c63641e2",
   "metadata": {},
   "outputs": [
    {
     "name": "stdout",
     "output_type": "stream",
     "text": [
      "Metrics for LogisticRegression \n",
      "               precision    recall  f1-score   support\n",
      "\n",
      "         neg       0.81      0.83      0.82       308\n",
      "         pos       0.84      0.82      0.83       332\n",
      "\n",
      "    accuracy                           0.82       640\n",
      "   macro avg       0.82      0.83      0.82       640\n",
      "weighted avg       0.83      0.82      0.83       640\n",
      "\n",
      "========================================================================================================================================================================================================\n",
      "['pos']\n",
      "Metrics for LinearSVC \n",
      "               precision    recall  f1-score   support\n",
      "\n",
      "         neg       0.84      0.84      0.84       308\n",
      "         pos       0.85      0.85      0.85       332\n",
      "\n",
      "    accuracy                           0.85       640\n",
      "   macro avg       0.85      0.85      0.85       640\n",
      "weighted avg       0.85      0.85      0.85       640\n",
      "\n",
      "========================================================================================================================================================================================================\n",
      "['pos']\n",
      "Metrics for MultinomialNB \n",
      "               precision    recall  f1-score   support\n",
      "\n",
      "         neg       0.69      0.93      0.79       308\n",
      "         pos       0.91      0.61      0.73       332\n",
      "\n",
      "    accuracy                           0.76       640\n",
      "   macro avg       0.80      0.77      0.76       640\n",
      "weighted avg       0.80      0.76      0.76       640\n",
      "\n",
      "========================================================================================================================================================================================================\n",
      "['pos']\n",
      "Metrics for SVC \n",
      "               precision    recall  f1-score   support\n",
      "\n",
      "         neg       0.48      1.00      0.65       308\n",
      "         pos       0.00      0.00      0.00       332\n",
      "\n",
      "    accuracy                           0.48       640\n",
      "   macro avg       0.24      0.50      0.32       640\n",
      "weighted avg       0.23      0.48      0.31       640\n",
      "\n",
      "========================================================================================================================================================================================================\n",
      "['neg']\n"
     ]
    },
    {
     "name": "stderr",
     "output_type": "stream",
     "text": [
      "C:\\Users\\Мирослав\\AppData\\Roaming\\Python\\Python38\\site-packages\\sklearn\\metrics\\_classification.py:1334: UndefinedMetricWarning: Precision and F-score are ill-defined and being set to 0.0 in labels with no predicted samples. Use `zero_division` parameter to control this behavior.\n",
      "  _warn_prf(average, modifier, msg_start, len(result))\n",
      "C:\\Users\\Мирослав\\AppData\\Roaming\\Python\\Python38\\site-packages\\sklearn\\metrics\\_classification.py:1334: UndefinedMetricWarning: Precision and F-score are ill-defined and being set to 0.0 in labels with no predicted samples. Use `zero_division` parameter to control this behavior.\n",
      "  _warn_prf(average, modifier, msg_start, len(result))\n",
      "C:\\Users\\Мирослав\\AppData\\Roaming\\Python\\Python38\\site-packages\\sklearn\\metrics\\_classification.py:1334: UndefinedMetricWarning: Precision and F-score are ill-defined and being set to 0.0 in labels with no predicted samples. Use `zero_division` parameter to control this behavior.\n",
      "  _warn_prf(average, modifier, msg_start, len(result))\n"
     ]
    }
   ],
   "source": [
    "df_all_matrix_conf, bag_of_predict = implement_prediction_approaches(df)"
   ]
  },
  {
   "cell_type": "code",
   "execution_count": 50,
   "id": "f75d1e4b",
   "metadata": {},
   "outputs": [
    {
     "data": {
      "text/html": [
       "<div>\n",
       "<style scoped>\n",
       "    .dataframe tbody tr th:only-of-type {\n",
       "        vertical-align: middle;\n",
       "    }\n",
       "\n",
       "    .dataframe tbody tr th {\n",
       "        vertical-align: top;\n",
       "    }\n",
       "\n",
       "    .dataframe thead th {\n",
       "        text-align: right;\n",
       "    }\n",
       "</style>\n",
       "<table border=\"1\" class=\"dataframe\">\n",
       "  <thead>\n",
       "    <tr style=\"text-align: right;\">\n",
       "      <th></th>\n",
       "      <th>positive SVC</th>\n",
       "      <th>negative SVC</th>\n",
       "      <th>Accuracy SVC</th>\n",
       "      <th>positive MultinomialNB</th>\n",
       "      <th>negative MultinomialNB</th>\n",
       "      <th>Accuracy MultinomialNB</th>\n",
       "      <th>positive LinearSVC</th>\n",
       "      <th>negative LinearSVC</th>\n",
       "      <th>Accuracy LinearSVC</th>\n",
       "      <th>positive LogisticRegression</th>\n",
       "      <th>negative LogisticRegression</th>\n",
       "      <th>Accuracy LogisticRegression</th>\n",
       "    </tr>\n",
       "  </thead>\n",
       "  <tbody>\n",
       "    <tr>\n",
       "      <th>positive</th>\n",
       "      <td>308</td>\n",
       "      <td>0</td>\n",
       "      <td>0.48125</td>\n",
       "      <td>287</td>\n",
       "      <td>21</td>\n",
       "      <td>0.764062</td>\n",
       "      <td>259</td>\n",
       "      <td>49</td>\n",
       "      <td>0.846875</td>\n",
       "      <td>257</td>\n",
       "      <td>51</td>\n",
       "      <td>0.825</td>\n",
       "    </tr>\n",
       "    <tr>\n",
       "      <th>negative</th>\n",
       "      <td>332</td>\n",
       "      <td>0</td>\n",
       "      <td>0.48125</td>\n",
       "      <td>130</td>\n",
       "      <td>202</td>\n",
       "      <td>0.764062</td>\n",
       "      <td>49</td>\n",
       "      <td>283</td>\n",
       "      <td>0.846875</td>\n",
       "      <td>61</td>\n",
       "      <td>271</td>\n",
       "      <td>0.825</td>\n",
       "    </tr>\n",
       "  </tbody>\n",
       "</table>\n",
       "</div>"
      ],
      "text/plain": [
       "          positive SVC  negative SVC  Accuracy SVC  positive MultinomialNB  \\\n",
       "positive           308             0       0.48125                     287   \n",
       "negative           332             0       0.48125                     130   \n",
       "\n",
       "          negative MultinomialNB  Accuracy MultinomialNB  positive LinearSVC  \\\n",
       "positive                      21                0.764062                 259   \n",
       "negative                     202                0.764062                  49   \n",
       "\n",
       "          negative LinearSVC  Accuracy LinearSVC  positive LogisticRegression  \\\n",
       "positive                  49            0.846875                          257   \n",
       "negative                 283            0.846875                           61   \n",
       "\n",
       "          negative LogisticRegression  Accuracy LogisticRegression  \n",
       "positive                           51                        0.825  \n",
       "negative                          271                        0.825  "
      ]
     },
     "execution_count": 50,
     "metadata": {},
     "output_type": "execute_result"
    }
   ],
   "source": [
    "df_all_matrix_conf"
   ]
  },
  {
   "cell_type": "code",
   "execution_count": 51,
   "id": "4bb8f9af",
   "metadata": {},
   "outputs": [
    {
     "data": {
      "text/plain": [
       "{'LogisticRegression': (0.825, 'pos'),\n",
       " 'LinearSVC': (0.846875, 'pos'),\n",
       " 'MultinomialNB': (0.7640625, 'pos'),\n",
       " 'SVC': (0.48125, 'neg')}"
      ]
     },
     "execution_count": 51,
     "metadata": {},
     "output_type": "execute_result"
    }
   ],
   "source": [
    "bag_of_predict"
   ]
  },
  {
   "cell_type": "code",
   "execution_count": null,
   "id": "268541eb",
   "metadata": {},
   "outputs": [],
   "source": []
  }
 ],
 "metadata": {
  "kernelspec": {
   "display_name": "Python 3",
   "language": "python",
   "name": "python3"
  },
  "language_info": {
   "codemirror_mode": {
    "name": "ipython",
    "version": 3
   },
   "file_extension": ".py",
   "mimetype": "text/x-python",
   "name": "python",
   "nbconvert_exporter": "python",
   "pygments_lexer": "ipython3",
   "version": "3.8.8"
  }
 },
 "nbformat": 4,
 "nbformat_minor": 5
}
